{
 "cells": [
  {
   "cell_type": "code",
   "execution_count": 49,
   "id": "b7172a60",
   "metadata": {},
   "outputs": [],
   "source": [
    "import pandas as pd\n",
    "from collections import Counter"
   ]
  },
  {
   "cell_type": "code",
   "execution_count": 46,
   "id": "d4820776",
   "metadata": {},
   "outputs": [
    {
     "data": {
      "text/html": [
       "<div>\n",
       "<style scoped>\n",
       "    .dataframe tbody tr th:only-of-type {\n",
       "        vertical-align: middle;\n",
       "    }\n",
       "\n",
       "    .dataframe tbody tr th {\n",
       "        vertical-align: top;\n",
       "    }\n",
       "\n",
       "    .dataframe thead th {\n",
       "        text-align: right;\n",
       "    }\n",
       "</style>\n",
       "<table border=\"1\" class=\"dataframe\">\n",
       "  <thead>\n",
       "    <tr style=\"text-align: right;\">\n",
       "      <th></th>\n",
       "      <th>Pick 3 words that best describe your mother</th>\n",
       "      <th>a scale of 1(negative) - 5(positive), how would rate the impact of your mum in your life</th>\n",
       "      <th>A quick lesson learned from your mum</th>\n",
       "      <th>What is your ethnic Background</th>\n",
       "      <th>What age range are you in?</th>\n",
       "      <th>Did you grow up in single parent or multi-parent household</th>\n",
       "      <th>What region are you from?</th>\n",
       "      <th>What is your Gender?</th>\n",
       "    </tr>\n",
       "  </thead>\n",
       "  <tbody>\n",
       "    <tr>\n",
       "      <th>0</th>\n",
       "      <td>funny, strict, responsible</td>\n",
       "      <td>5</td>\n",
       "      <td>Don't leave the lights on at night</td>\n",
       "      <td>Black/African</td>\n",
       "      <td>16-19</td>\n",
       "      <td>Single</td>\n",
       "      <td>North London</td>\n",
       "      <td>Male</td>\n",
       "    </tr>\n",
       "    <tr>\n",
       "      <th>1</th>\n",
       "      <td>enthusiastic, strong, loving</td>\n",
       "      <td>3</td>\n",
       "      <td>The best things in life are free</td>\n",
       "      <td>Asian/ Asian British</td>\n",
       "      <td>45-49</td>\n",
       "      <td>Single</td>\n",
       "      <td>South London</td>\n",
       "      <td>Female</td>\n",
       "    </tr>\n",
       "    <tr>\n",
       "      <th>2</th>\n",
       "      <td>helpful, angry, strict</td>\n",
       "      <td>2</td>\n",
       "      <td>Health = wealth</td>\n",
       "      <td>White</td>\n",
       "      <td>25-29</td>\n",
       "      <td>Couple</td>\n",
       "      <td>South London</td>\n",
       "      <td>Non-binary</td>\n",
       "    </tr>\n",
       "  </tbody>\n",
       "</table>\n",
       "</div>"
      ],
      "text/plain": [
       "  Pick 3 words that best describe your mother  \\\n",
       "0                  funny, strict, responsible   \n",
       "1                enthusiastic, strong, loving   \n",
       "2                      helpful, angry, strict   \n",
       "\n",
       "    a scale of 1(negative) - 5(positive), how would rate the impact of your mum in your life  \\\n",
       "0                                                  5                                           \n",
       "1                                                  3                                           \n",
       "2                                                  2                                           \n",
       "\n",
       "  A quick lesson learned from your mum What is your ethnic Background  \\\n",
       "0   Don't leave the lights on at night                  Black/African   \n",
       "1     The best things in life are free           Asian/ Asian British   \n",
       "2                      Health = wealth                          White   \n",
       "\n",
       "  What age range are you in?  \\\n",
       "0                      16-19   \n",
       "1                      45-49   \n",
       "2                      25-29   \n",
       "\n",
       "  Did you grow up in single parent or multi-parent household  \\\n",
       "0                                             Single           \n",
       "1                                            Single            \n",
       "2                                             Couple           \n",
       "\n",
       "  What region are you from? What is your Gender?  \n",
       "0              North London                 Male  \n",
       "1              South London               Female  \n",
       "2              South London           Non-binary  "
      ]
     },
     "execution_count": 46,
     "metadata": {},
     "output_type": "execute_result"
    }
   ],
   "source": [
    "df = pd.read_excel('https://docs.google.com/spreadsheets/d/e/2PACX-1vSi8oxfSYqPZMQKjb3jHIrvQllliPnCVFmt9mHsQKpNHZP5eLSoENGnAjCUFt7jz9mvsanNI3B-0oTE/pub?output=xlsx')\n",
    "\n",
    "df.head(5)"
   ]
  },
  {
   "cell_type": "code",
   "execution_count": 47,
   "id": "db333986",
   "metadata": {},
   "outputs": [
    {
     "name": "stdout",
     "output_type": "stream",
     "text": [
      "            1st      2nd           3rd  words1_count  words2_count  \\\n",
      "0         funny   strict   responsible             1             1   \n",
      "1  enthusiastic   strong        loving             1             1   \n",
      "2       helpful    angry        strict             1             1   \n",
      "\n",
      "   words3_count  \n",
      "0             1  \n",
      "1             1  \n",
      "2             1  \n"
     ]
    }
   ],
   "source": [
    "words_df = pd.DataFrame()\n",
    "\n",
    "Total_words_df = pd.DataFrame()\n",
    "\n",
    "words_df[['1st', '2nd', '3rd']] = df['Pick 3 words that best describe your mother'].str.split(',', expand=True)\n",
    "\n",
    "words1_counts = words_df['1st'].value_counts()\n",
    "w1 = words1_counts.to_dict()\n",
    "words_df[['words1_count']] = words_df['1st'].map(w1)\n",
    "\n",
    "words2_counts = words_df['2nd'].value_counts()\n",
    "w2 = words2_counts.to_dict()\n",
    "words_df[['words2_count']] = words_df['2nd'].map(w2)\n",
    "\n",
    "words3_counts = words_df['3rd'].value_counts()\n",
    "w3 = words3_counts.to_dict()\n",
    "words_df[['words3_count']] = words_df['3rd'].map(w3)\n",
    "\n",
    "Total_words_df[[]]\n",
    "\n",
    "print(words_df.drop_duplicates())"
   ]
  },
  {
   "cell_type": "code",
   "execution_count": 53,
   "id": "58e34a18",
   "metadata": {},
   "outputs": [
    {
     "name": "stdout",
     "output_type": "stream",
     "text": [
      "              0\n",
      "enthusiastic  1\n",
      "funny         1\n",
      "helpful       1\n",
      " angry        1\n",
      " strict       2\n",
      " strong       1\n",
      " responsible  1\n",
      " loving       1\n"
     ]
    }
   ],
   "source": [
    "wdict = Counter(w1) + Counter(w2) + Counter(w3)\n",
    "\n",
    "total_words_df = pd.DataFrame.from_dict(wdict, orient ='index') \n",
    "print(total_words_df)"
   ]
  },
  {
   "cell_type": "code",
   "execution_count": 33,
   "id": "cdf293fb",
   "metadata": {},
   "outputs": [
    {
     "name": "stdout",
     "output_type": "stream",
     "text": [
      "       gender  g_count\n",
      "0        Male        1\n",
      "1      Female        1\n",
      "2  Non-binary        1\n"
     ]
    }
   ],
   "source": [
    "gender_df = pd.DataFrame()\n",
    "\n",
    "gender_df[['gender']] = df['What is your Gender?']\n",
    "\n",
    "gender_counts = df['What is your Gender?'].value_counts()\n",
    "\n",
    "g1 = gender_counts.to_dict()\n",
    "\n",
    "gender_df[['g_count']] = gender_df['gender'].map(g1)\n",
    "\n",
    "print(gender_df.drop_duplicates())\n"
   ]
  },
  {
   "cell_type": "code",
   "execution_count": 34,
   "id": "90fd60cd",
   "metadata": {},
   "outputs": [
    {
     "name": "stdout",
     "output_type": "stream",
     "text": [
      "     age  age_count\n",
      "0  16-19          1\n",
      "1  45-49          1\n",
      "2  25-29          1\n"
     ]
    }
   ],
   "source": [
    "age_df = pd.DataFrame()\n",
    "\n",
    "age_df[['age']] = df['What age range are you in?']\n",
    "\n",
    "age_counts = df['What age range are you in?'].value_counts()\n",
    "\n",
    "a1 = age_counts.to_dict()\n",
    "\n",
    "age_df[['age_count']] = age_df['age'].map(a1)\n",
    "\n",
    "print(age_df.drop_duplicates())"
   ]
  },
  {
   "cell_type": "code",
   "execution_count": 35,
   "id": "fcab7ddd",
   "metadata": {},
   "outputs": [
    {
     "name": "stdout",
     "output_type": "stream",
     "text": [
      "              ethnicity  race_count\n",
      "0         Black/African           1\n",
      "1  Asian/ Asian British           1\n",
      "2                 White           1\n"
     ]
    }
   ],
   "source": [
    "race_df = pd.DataFrame()\n",
    "\n",
    "race_df[['ethnicity']] = df['What is your ethnic Background']\n",
    "\n",
    "race_counts = df['What is your ethnic Background'].value_counts()\n",
    "\n",
    "r1 = race_counts.to_dict()\n",
    "\n",
    "race_df[['race_count']] = race_df['ethnicity'].map(r1)\n",
    "\n",
    "print(race_df.drop_duplicates())"
   ]
  },
  {
   "cell_type": "code",
   "execution_count": 36,
   "id": "a5c63cd7",
   "metadata": {},
   "outputs": [
    {
     "name": "stdout",
     "output_type": "stream",
     "text": [
      "    S_or_C  hh_count\n",
      "0   Single         1\n",
      "1  Single          1\n",
      "2   Couple         1\n"
     ]
    }
   ],
   "source": [
    "hh_df = pd.DataFrame()\n",
    "\n",
    "hh_df[['S_or_C']] = df['Did you grow up in single parent or multi-parent household']\n",
    "\n",
    "hh_counts = df['Did you grow up in single parent or multi-parent household'].value_counts()\n",
    "\n",
    "h1 = hh_counts.to_dict()\n",
    "\n",
    "hh_df[['hh_count']] = hh_df['S_or_C'].map(h1)\n",
    "\n",
    "print(hh_df.drop_duplicates())"
   ]
  },
  {
   "cell_type": "code",
   "execution_count": 38,
   "id": "fde4e75c",
   "metadata": {},
   "outputs": [
    {
     "name": "stdout",
     "output_type": "stream",
     "text": [
      "       location  loc_count\n",
      "0  North London          1\n",
      "1  South London          2\n"
     ]
    }
   ],
   "source": [
    "loc_df = pd.DataFrame()\n",
    "\n",
    "loc_df[['location']] = df['What region are you from?']\n",
    "\n",
    "loc_counts = df['What region are you from?'].value_counts()\n",
    "\n",
    "l1 = loc_counts.to_dict()\n",
    "\n",
    "loc_df[['loc_count']] = loc_df['location'].map(l1)\n",
    "\n",
    "print(loc_df.drop_duplicates())"
   ]
  },
  {
   "cell_type": "code",
   "execution_count": 54,
   "id": "b6e84016",
   "metadata": {},
   "outputs": [],
   "source": [
    "loc_df.to_json('temp.json', orient='records', lines=True)"
   ]
  },
  {
   "cell_type": "code",
   "execution_count": null,
   "id": "90a8be77",
   "metadata": {},
   "outputs": [],
   "source": []
  }
 ],
 "metadata": {
  "kernelspec": {
   "display_name": "Python 3",
   "language": "python",
   "name": "python3"
  },
  "language_info": {
   "codemirror_mode": {
    "name": "ipython",
    "version": 3
   },
   "file_extension": ".py",
   "mimetype": "text/x-python",
   "name": "python",
   "nbconvert_exporter": "python",
   "pygments_lexer": "ipython3",
   "version": "3.8.8"
  }
 },
 "nbformat": 4,
 "nbformat_minor": 5
}
